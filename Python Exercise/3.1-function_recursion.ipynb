{
 "cells": [
  {
   "cell_type": "code",
   "execution_count": 12,
   "metadata": {},
   "outputs": [
    {
     "name": "stdout",
     "output_type": "stream",
     "text": [
      "5\n",
      "4\n",
      "3\n",
      "2\n",
      "1\n"
     ]
    }
   ],
   "source": [
    "# write a function to print first n natural numbers\n",
    "\n",
    "def print_naturalNum(num):\n",
    "    if(num == 0):\n",
    "        return\n",
    "    print(num)\n",
    "    print_naturalNum(num - 1)\n",
    "\n",
    "print_naturalNum(5)"
   ]
  },
  {
   "cell_type": "code",
   "execution_count": null,
   "metadata": {},
   "outputs": [
    {
     "data": {
      "text/plain": [
       "15"
      ]
     },
     "execution_count": 15,
     "metadata": {},
     "output_type": "execute_result"
    }
   ],
   "source": [
    "# Write a recursive function to calculate the sum of first n natural numbers.\n",
    "\n",
    "\n",
    "def calc_sum(num):\n",
    "    if(num == 0):\n",
    "        return 0\n",
    "    return calc_sum(num - 1) + num\n",
    "\n",
    "sum = calc_sum(5)\n",
    "print(sum)"
   ]
  },
  {
   "cell_type": "code",
   "execution_count": null,
   "metadata": {},
   "outputs": [
    {
     "name": "stdout",
     "output_type": "stream",
     "text": [
      "3 453\n",
      "2 2\n",
      "1 3\n",
      "0 1\n"
     ]
    }
   ],
   "source": [
    "# write a recursive function to print all elements in a list\n",
    "# HINT: use list and index as parameters\n",
    "list1 = [1,3,2,453]\n",
    "\n",
    "len_list = len(list1) - 1\n",
    "def print_list(l : list, len_list: int):\n",
    "    print(len_list, l[len_list])\n",
    "    len_list  -= 1   \n",
    "    if(len_list < 0):\n",
    "        return \n",
    "    print_list(l, len_list)\n",
    "\n",
    "\n",
    "print_list(list1, len_list)\n"
   ]
  },
  {
   "cell_type": "code",
   "execution_count": null,
   "metadata": {},
   "outputs": [],
   "source": [
    "# write a recursive function to print all elements in a list\n",
    "# HINT: use list and index as parameters\n",
    "\n",
    "list1 = [1,3,2,453]\n",
    "def print_list(l , idx):\n",
    "    if(idx == len(l)):\n",
    "        return\n",
    "    print(l[idx])\n",
    "    print_list(l, idx+1)"
   ]
  }
 ],
 "metadata": {
  "kernelspec": {
   "display_name": "divya_ds_env",
   "language": "python",
   "name": "python3"
  },
  "language_info": {
   "codemirror_mode": {
    "name": "ipython",
    "version": 3
   },
   "file_extension": ".py",
   "mimetype": "text/x-python",
   "name": "python",
   "nbconvert_exporter": "python",
   "pygments_lexer": "ipython3",
   "version": "3.13.4"
  }
 },
 "nbformat": 4,
 "nbformat_minor": 2
}
