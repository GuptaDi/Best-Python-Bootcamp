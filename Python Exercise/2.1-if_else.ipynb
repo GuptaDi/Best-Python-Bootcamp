{
 "cells": [
  {
   "cell_type": "markdown",
   "metadata": {},
   "source": [
    "Grade students based on marks\n",
    "\n",
    "marks >=90 , grade \"A\"\n",
    "90 > marks >= 80, grade \"B\"\n",
    "80 > marks >= 70, grade \"C\"\n",
    "70 > marks , grade \"D\""
   ]
  },
  {
   "cell_type": "markdown",
   "metadata": {},
   "source": []
  },
  {
   "cell_type": "code",
   "execution_count": 3,
   "metadata": {},
   "outputs": [
    {
     "name": "stdout",
     "output_type": "stream",
     "text": [
      "Student marks  24\n",
      "You have got GRADE D\n"
     ]
    }
   ],
   "source": [
    "marks = int(input(\"Please enter the students marks\"))\n",
    "print(\"Student marks \",marks)\n",
    "\n",
    "if(marks >= 90):\n",
    "    print(\"You have got GRADE A\")\n",
    "elif(marks >=80 and marks < 90):\n",
    "    print(\"You have got GRADE B\")\n",
    "elif(marks >=70 and marks < 80 ):\n",
    "    print(\"You have got GRADE C\")\n",
    "else:\n",
    "    print(\"You have got GRADE D\")"
   ]
  },
  {
   "cell_type": "markdown",
   "metadata": {},
   "source": [
    "# Nesting "
   ]
  },
  {
   "cell_type": "code",
   "execution_count": null,
   "metadata": {},
   "outputs": [],
   "source": [
    "# check if a user can vote\n",
    "minage=18\n",
    "\n",
    "userage = int(input(\"Please enter your age\"))\n",
    "if(userage>=minage):\n",
    "    if(userage >= 80):\n",
    "        print(\" User cannot vote\")\n",
    "    else:\n",
    "        print(\"Userage :\",userage, \"\\nUser is eligible to vote\")\n",
    "else:\n",
    "    print(\"Userage: \",userage,\"\\nUserage is less to meet voting requirements.\")"
   ]
  },
  {
   "cell_type": "code",
   "execution_count": null,
   "metadata": {},
   "outputs": [
    {
     "name": "stdout",
     "output_type": "stream",
     "text": [
      "Number is even\n"
     ]
    }
   ],
   "source": [
    "# Number entered by user is odd or even\n",
    "\n",
    "number = int(input(\"Please enter the number\"))\n",
    "print(\"Number entered \", number)\n",
    "\n",
    "if(number%2 == 0):\n",
    "    print(\"Number is even\")\n",
    "else:\n",
    "    print(\"Number is odd\")"
   ]
  },
  {
   "cell_type": "code",
   "execution_count": 7,
   "metadata": {},
   "outputs": [
    {
     "name": "stdout",
     "output_type": "stream",
     "text": [
      " The three numbers entered are -  32 321 44\n",
      "number 2 is greater\n"
     ]
    }
   ],
   "source": [
    "# Find the greatest of 3 numbers entered by the user\n",
    "\n",
    "number1 = int(input(\"Please enter the first number\"))\n",
    "number2 = int(input(\"Please enter the second number\"))\n",
    "number3 = int(input(\"Please enter the third number\"))\n",
    "\n",
    "print(\" The three numbers entered are - \", number1 , number2, number3)\n",
    "\n",
    "if(number1 >= number2 and number1 >= number3 ):\n",
    "    print(\"number 1 is greater\")\n",
    "elif(number2 >= number3):\n",
    "    print(\"number 2 is greater\")\n",
    "else:\n",
    "    print(\" number 3 is greater\")\n"
   ]
  },
  {
   "cell_type": "code",
   "execution_count": 8,
   "metadata": {},
   "outputs": [
    {
     "name": "stdout",
     "output_type": "stream",
     "text": [
      "Number entered  32\n",
      "Number is not a multiple of 7\n"
     ]
    }
   ],
   "source": [
    "# check if a number is multiple of 7 or not\n",
    "number = int(input(\"Please enter the number\"))\n",
    "print(\"Number entered \", number)\n",
    "\n",
    "if(number%7 == 0):\n",
    "    print(\"Number is multiple of 7\")\n",
    "else:\n",
    "    print(\"Number is not a multiple of 7\")"
   ]
  }
 ],
 "metadata": {
  "kernelspec": {
   "display_name": "divya_ds_env",
   "language": "python",
   "name": "python3"
  },
  "language_info": {
   "codemirror_mode": {
    "name": "ipython",
    "version": 3
   },
   "file_extension": ".py",
   "mimetype": "text/x-python",
   "name": "python",
   "nbconvert_exporter": "python",
   "pygments_lexer": "ipython3",
   "version": "3.13.4"
  }
 },
 "nbformat": 4,
 "nbformat_minor": 2
}
