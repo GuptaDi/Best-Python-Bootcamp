{
 "cells": [
  {
   "cell_type": "code",
   "execution_count": null,
   "metadata": {},
   "outputs": [
    {
     "name": "stdout",
     "output_type": "stream",
     "text": [
      "{'table': ['a piece of furniture', 'list of facts and figures'], 'cat': 'a small animal'}\n",
      "<class 'dict'>\n"
     ]
    }
   ],
   "source": [
    "# Store the word meaning in a python dictonary - \n",
    "# table: \"a piece of furniture\", \"list of facts and figures\"\n",
    "# cat: \"a small animal\"\n",
    "\n",
    "lst = [\"a piece of furniture\",\"list of facts and figures\"]\n",
    "dict = {\n",
    "    \"table\": lst,\n",
    "    \"cat\": \"a small animal\",\n",
    "}\n",
    "\n",
    "print(dict)\n",
    "print(type(dict))"
   ]
  },
  {
   "cell_type": "code",
   "execution_count": null,
   "metadata": {},
   "outputs": [
    {
     "name": "stdout",
     "output_type": "stream",
     "text": [
      "Total classrooms needed 5\n"
     ]
    }
   ],
   "source": [
    "# You are given a list of subjects for students. Assume 1 classroom is required for 1 subject.\n",
    "# How many classroom are needed by all students.\n",
    "\n",
    "subjects = {\"python\", \"java\", \"C++\", \"python\", \"javascript\", \"java\", \"python\", \"java\", \"C++\", \"C\"}\n",
    "\n",
    "# find unique subjects - Use Set \n",
    "print(\"Total classrooms needed\" , len(subjects))\n"
   ]
  },
  {
   "cell_type": "code",
   "execution_count": null,
   "metadata": {},
   "outputs": [
    {
     "name": "stdout",
     "output_type": "stream",
     "text": [
      "{'maths': '100', 'physics': '98', 'chemistry': '87'}\n"
     ]
    }
   ],
   "source": [
    "# WAP to enter marks of 3 subjects of students and store them in a dictonary.\n",
    "# Start with an empty dict and add one by one.\n",
    "# Use subject name as key and marks as value.\n",
    "\n",
    "student_marks = {\n",
    "    \"maths\": int(input(\"please enter the marks for maths\")),\n",
    "    \"physics\": int(input(\"please enter the marks for physics\")),\n",
    "    \"chemistry\": int(input(\"please enter the marks for chemistry\")),\n",
    "}\n",
    "\n",
    "print(student_marks)\n",
    "\n"
   ]
  },
  {
   "cell_type": "code",
   "execution_count": 2,
   "metadata": {},
   "outputs": [
    {
     "name": "stdout",
     "output_type": "stream",
     "text": [
      "{'maths': 32, 'physics': 32, 'chemistry': 45}\n"
     ]
    }
   ],
   "source": [
    "\n",
    "# OR ==========\n",
    "marks = {}\n",
    "x = int(input(\"please enter the marks for maths\"))\n",
    "marks.update({\"maths\":x})\n",
    "\n",
    "x = int(input(\"please enter the marks for physics\"))\n",
    "marks.update({\"physics\":x})\n",
    "\n",
    "x = int(input(\"please enter the marks for chemistry\"))\n",
    "marks.update({\"chemistry\":x})\n",
    "\n",
    "print(marks)"
   ]
  },
  {
   "cell_type": "code",
   "execution_count": null,
   "metadata": {},
   "outputs": [
    {
     "ename": "SyntaxError",
     "evalue": "invalid syntax (3105380420.py, line 12)",
     "output_type": "error",
     "traceback": [
      "  \u001b[36mCell\u001b[39m\u001b[36m \u001b[39m\u001b[32mIn[6]\u001b[39m\u001b[32m, line 12\u001b[39m\n\u001b[31m    \u001b[39m\u001b[31mset1 = {(\"int\": 9), {\"float\": 9.0}}\u001b[39m\n                  ^\n\u001b[31mSyntaxError\u001b[39m\u001b[31m:\u001b[39m invalid syntax\n"
     ]
    }
   ],
   "source": [
    "# Figure out a way to store 9 and 9.0 as seprate values in the set\n",
    "# You can take help of built in data type\n",
    "\n",
    "set1 = {9, 9.0}    # the hash values for both 9 and 9.0 are same. \n",
    "print(set1)    \n",
    "\n",
    "# possible solution , store one value as int and other as a string\n",
    "set1 = {9, '9.0'}\n",
    "print(set1)\n",
    "\n",
    "# another solution - use tuple\n",
    "set1 = { (\"int\", 9), (\"float\", 9.0)}\n",
    "print(set1)"
   ]
  },
  {
   "cell_type": "code",
   "execution_count": null,
   "metadata": {},
   "outputs": [],
   "source": []
  }
 ],
 "metadata": {
  "kernelspec": {
   "display_name": "divya_ds_env",
   "language": "python",
   "name": "python3"
  },
  "language_info": {
   "codemirror_mode": {
    "name": "ipython",
    "version": 3
   },
   "file_extension": ".py",
   "mimetype": "text/x-python",
   "name": "python",
   "nbconvert_exporter": "python",
   "pygments_lexer": "ipython3",
   "version": "3.13.4"
  }
 },
 "nbformat": 4,
 "nbformat_minor": 2
}
