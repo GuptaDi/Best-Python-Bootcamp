{
 "cells": [
  {
   "cell_type": "code",
   "execution_count": 5,
   "metadata": {},
   "outputs": [
    {
     "name": "stdout",
     "output_type": "stream",
     "text": [
      "Hi,  divya your avg score is 94.33333333333333\n"
     ]
    }
   ],
   "source": [
    "# create a student class that takes name and marks of 3 subjects as arguments in constructor. \n",
    "# Then create a method to print the average.\n",
    "\n",
    "class Student:\n",
    "    def __init__(self, name, marks):\n",
    "        self.name = name\n",
    "        self.marks = marks\n",
    "        \n",
    "    \n",
    "    def calc_average(self):\n",
    "        sum = 0\n",
    "        for num in self.marks:\n",
    "            sum += num\n",
    "        print(\"Hi, \",self.name,\"your avg score is\", sum/3)   \n",
    "\n",
    "s1 = Student('divya', [100,93,90])\n",
    "s1.calc_average()"
   ]
  },
  {
   "cell_type": "code",
   "execution_count": 14,
   "metadata": {},
   "outputs": [
    {
     "name": "stdout",
     "output_type": "stream",
     "text": [
      "Role:  Accountant\n",
      "department:  Finance\n",
      "salary:  30000\n",
      "Engineer Details \n",
      "\n",
      "Role:  Engineer\n",
      "department:  IT\n",
      "salary:  75000\n",
      "Name:  Divya\n",
      "Age: 35\n"
     ]
    }
   ],
   "source": [
    "# Define an employee class with attributes role, department & slary. This class has showDetails() method.\n",
    "# Define an Engineer class that inherits properties from Employee and have attributes, name & age.\n",
    "# \n",
    "\n",
    "\n",
    "class Employee:\n",
    "    def __init__(self, role, dept, salary):\n",
    "        self.role = role\n",
    "        self.department = dept\n",
    "        self.salary = salary\n",
    "    \n",
    "\n",
    "    def show_details(self):\n",
    "        print(\"Role: \", self.role)\n",
    "        print(\"department: \", self.department)\n",
    "        print(\"salary: \", self.salary)\n",
    "\n",
    "\n",
    "\n",
    "class Engineer(Employee):\n",
    "    def __init__(self, name, age):\n",
    "        self.name = name\n",
    "        self.age = age\n",
    "        super().__init__(\"Engineer\", \"IT\", 75000)\n",
    "    \n",
    "    def show_details(self):\n",
    "        super().show_details()\n",
    "        print(\"Name: \", self.name)\n",
    "        print(\"Age:\", self.age)\n",
    "\n",
    "\n",
    "\n",
    "\n",
    "\n",
    "emp1 = Employee(\"Accountant\",\"Finance\",30000)\n",
    "emp1.show_details()\n",
    "\n",
    "print(\"Engineer Details \\n\")\n",
    "eng1 = Engineer(\"Divya\",35)\n",
    "eng1.show_details()"
   ]
  },
  {
   "cell_type": "code",
   "execution_count": null,
   "metadata": {},
   "outputs": [],
   "source": [
    "# create a Order class which stores item & its price\n",
    "# Use dunder functions __fn__() to get the result:\n",
    "# order1 > order2 if price of order1 > price of order2\n",
    "\n",
    "class Order:\n",
    "    def __init__(self, item, price):\n",
    "        self.item = item\n",
    "        self.price = price\n",
    "\n",
    "    def __gt__(self,obj2):\n",
    "        return self.price > obj2.price\n",
    "\n",
    "obj1 = Order(\"burger\",20)\n",
    "obj2 = Order(\"pizza\",80)\n",
    "\n",
    "print(obj1 > obj2)"
   ]
  },
  {
   "cell_type": "code",
   "execution_count": null,
   "metadata": {},
   "outputs": [],
   "source": []
  }
 ],
 "metadata": {
  "kernelspec": {
   "display_name": "divya_ds_env",
   "language": "python",
   "name": "python3"
  },
  "language_info": {
   "codemirror_mode": {
    "name": "ipython",
    "version": 3
   },
   "file_extension": ".py",
   "mimetype": "text/x-python",
   "name": "python",
   "nbconvert_exporter": "python",
   "pygments_lexer": "ipython3",
   "version": "3.13.4"
  }
 },
 "nbformat": 4,
 "nbformat_minor": 2
}
