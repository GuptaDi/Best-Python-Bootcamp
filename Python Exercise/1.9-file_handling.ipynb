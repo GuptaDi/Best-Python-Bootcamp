{
 "cells": [
  {
   "cell_type": "markdown",
   "metadata": {},
   "source": [
    "Create a new file \"practice.txt\" using python. Add data to it.\n",
    "hi everyone,\n",
    "we are learning file i/o\n",
    "using Java.\n",
    "I like programming in java.\n",
    "\n",
    "WAF that replaces all the occurences of \"java\" with \"python\"."
   ]
  },
  {
   "cell_type": "code",
   "execution_count": 13,
   "metadata": {},
   "outputs": [
    {
     "name": "stdout",
     "output_type": "stream",
     "text": [
      "hi everyone \n",
      "we are learning file i/o\n",
      "using python.\n",
      "I like programming in python.\n"
     ]
    }
   ],
   "source": [
    "file = open(\"file_exercise.txt\", \"w\")\n",
    "file.write(\"hi everyone \\nwe are learning file i/o\\nusing Java.\\nI like programming in Java.\")\n",
    "file.close()\n",
    "\n",
    "\n",
    "file = open(\"file_exercise.txt\", \"r\")\n",
    "data = file.read()\n",
    "# print(data)\n",
    "\n",
    "data = data.replace(\"Java\", \"python\")\n",
    "print(data)\n",
    "file.close()\n",
    "\n",
    "file = open(\"file_exercise.txt\", \"w\")\n",
    "file.write(data)\n",
    "file.close()\n",
    "\n"
   ]
  },
  {
   "cell_type": "markdown",
   "metadata": {},
   "source": [
    "Search if word \"learning\" exist in the file or not."
   ]
  },
  {
   "cell_type": "code",
   "execution_count": 22,
   "metadata": {},
   "outputs": [
    {
     "name": "stdout",
     "output_type": "stream",
     "text": [
      "Found the result\n"
     ]
    }
   ],
   "source": [
    "def check_for_word(findWord = ''):\n",
    "    file = open(\"file_exercise.txt\", \"r\")\n",
    "    data = file.read()\n",
    "    if(findWord):\n",
    "        if(data.find(findWord) != -1 ):\n",
    "            print(\"Found the result\")\n",
    "        else:\n",
    "            print(\"Word not found\")\n",
    "    else:\n",
    "        print(\"Please enter the word\")\n",
    "    file.close()\n",
    "\n",
    "check_for_word('learning')"
   ]
  },
  {
   "cell_type": "code",
   "execution_count": 31,
   "metadata": {},
   "outputs": [
    {
     "name": "stdout",
     "output_type": "stream",
     "text": [
      "Found the result at line  2\n"
     ]
    }
   ],
   "source": [
    "# WAF to find in which line of the file does the word \"learning\" occur first.\n",
    "# Print -1 if the word not found\n",
    "\n",
    "def check_for_word_in_line(findWord = ''):\n",
    "    file = open(\"file_exercise.txt\", \"r\")\n",
    "    #data = file.readline()\n",
    "    data = True\n",
    "    i = 1\n",
    "    if(findWord):\n",
    "        #while(data != ''):\n",
    "        while(data):\n",
    "            data = file.readline()\n",
    "            # if(data.find(findWord) != -1 ):\n",
    "            if(findWord in data):\n",
    "                print(\"Found the result at line \", i)\n",
    "                break\n",
    "            i += 1\n",
    "        if (not data):\n",
    "            print(\" Word doesnt exist in the file. its occurence is -1\")\n",
    "    else:\n",
    "        print(\"Please enter the word\")\n",
    "    \n",
    "    file.close()\n",
    "\n",
    "check_for_word_in_line('learning')"
   ]
  },
  {
   "cell_type": "code",
   "execution_count": 38,
   "metadata": {},
   "outputs": [
    {
     "name": "stdout",
     "output_type": "stream",
     "text": [
      "['1', '2', '3', '45', '4', '2', '45', '5', '3', '45', '4', '55', '63', '23', '22']\n",
      "2\n",
      "4\n",
      "2\n",
      "4\n",
      "22\n",
      "Count is  5\n"
     ]
    }
   ],
   "source": [
    "# from a file containing numbers separated by comma, print the count of even numbers.\n",
    "fileData = \"1,2,3,45,4,2,45,5,3,45,4,55,63,23,22\"\n",
    "\n",
    "\n",
    "file = open(\"file_exercise2.txt\", \"w\")\n",
    "file.write(fileData)\n",
    "file.close()\n",
    "\n",
    "\n",
    "file = open(\"file_exercise2.txt\", \"r\")\n",
    "data = file.read()\n",
    "\n",
    "split_data = data.split(\",\")\n",
    "print(split_data)\n",
    "\n",
    "count = 0\n",
    "\n",
    "for val in split_data:\n",
    "    if (int(val) % 2 == 0):\n",
    "        print(val)\n",
    "        count +=1\n",
    "\n",
    "print(\"Count is \", count)\n"
   ]
  },
  {
   "cell_type": "code",
   "execution_count": null,
   "metadata": {},
   "outputs": [],
   "source": []
  }
 ],
 "metadata": {
  "kernelspec": {
   "display_name": "divya_ds_env",
   "language": "python",
   "name": "python3"
  },
  "language_info": {
   "codemirror_mode": {
    "name": "ipython",
    "version": 3
   },
   "file_extension": ".py",
   "mimetype": "text/x-python",
   "name": "python",
   "nbconvert_exporter": "python",
   "pygments_lexer": "ipython3",
   "version": "3.13.4"
  }
 },
 "nbformat": 4,
 "nbformat_minor": 2
}
