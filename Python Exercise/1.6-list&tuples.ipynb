{
 "cells": [
  {
   "cell_type": "code",
   "execution_count": 16,
   "metadata": {},
   "outputs": [
    {
     "name": "stdout",
     "output_type": "stream",
     "text": [
      "['', '', '']\n",
      "['', '', '']\n",
      "['', '', '']\n",
      "['', '', '']\n"
     ]
    }
   ],
   "source": [
    "# Ask user to enter names for 3 movies, and store it in a list.\n",
    "\n",
    "movie1 = input(\"Please enter you 1st favourite movie name.\")\n",
    "movie2 = input(\"Please enter you 2nd favourite movie name.\")\n",
    "movie3 = input(\"Please enter you 3rd favourite movie name.\")\n",
    "\n",
    "favMovielist = [movie1, movie2, movie3] \n",
    "print(favMovielist)\n",
    "\n",
    "# OR ===========\n",
    "favMovlist = []\n",
    "favMovlist.append(movie1)\n",
    "favMovlist.append(movie2)\n",
    "favMovlist.append(movie3)\n",
    "print(favMovlist)\n",
    "\n",
    "# OR ===========\n",
    "movlist=[]\n",
    "mov = input(\"Please enter you 1st favourite movie name.\")\n",
    "movlist.append(mov)\n",
    "mov = input(\"Please enter you 2nd favourite movie name.\")\n",
    "movlist.append(mov)\n",
    "mov = input(\"Please enter you 3rd favourite movie name.\")\n",
    "movlist.append(mov)\n",
    "\n",
    "print(movlist)\n",
    "\n",
    "# OR ===============\n",
    "movielist = []\n",
    "movielist.append(input(\"Please enter you 1st favourite movie name.\"))\n",
    "movielist.append(input(\"Please enter you 2nd favourite movie name.\"))\n",
    "movielist.append(input(\"Please enter you 3rd favourite movie name.\"))\n",
    "\n",
    "print(movielist)\n"
   ]
  },
  {
   "cell_type": "code",
   "execution_count": null,
   "metadata": {},
   "outputs": [
    {
     "name": "stdout",
     "output_type": "stream",
     "text": [
      "Reverse of list  [1, 3, 5, 3, 1]\n",
      "List is a palindrome\n"
     ]
    }
   ],
   "source": [
    "# check if a list contains a palindrome of elements. (Hint: copy() method)\n",
    "# 1221 , 12321\n",
    "\n",
    "list1 = [1,3,5,3,1]\n",
    "copy_list1 = list1.copy() # doesnot return any value. Directly make changes in the variable.\n",
    "copy_list1.reverse()\n",
    "\n",
    "print(\"Reverse of list \", copy_list1)\n",
    "\n",
    "# compare the two lists. No need to do it in the for loop index by index.\n",
    "if list1 == copy_list1:\n",
    "    print(\"List is a palindrome\")\n",
    "else:\n",
    "    print(\"List is not a palindrome\")\n",
    "\n"
   ]
  },
  {
   "cell_type": "code",
   "execution_count": 22,
   "metadata": {},
   "outputs": [
    {
     "name": "stdout",
     "output_type": "stream",
     "text": [
      "Students with grade A  3\n"
     ]
    }
   ],
   "source": [
    "# WAP to count the number of students with the \"A\" grade in the following tuple\n",
    "\n",
    "tup = (\"C\", \"D\", \"A\", \"A\", \"B\", \"D\", \"C\", \"B\", \"A\")\n",
    "print(\"Students with grade A \" , tup.count(\"A\"))\n"
   ]
  },
  {
   "cell_type": "code",
   "execution_count": 23,
   "metadata": {},
   "outputs": [
    {
     "name": "stdout",
     "output_type": "stream",
     "text": [
      " Sorted list in ascending order  ['A', 'A', 'A', 'B', 'B', 'C', 'C', 'D', 'D']\n"
     ]
    }
   ],
   "source": [
    "# store the values of tuple in a list and sort them from A to D\n",
    "\n",
    "list = [\"C\", \"D\", \"A\", \"A\", \"B\", \"D\", \"C\", \"B\", \"A\"]\n",
    "list.sort()\n",
    "print(\" Sorted list in ascending order \",list)"
   ]
  },
  {
   "cell_type": "code",
   "execution_count": null,
   "metadata": {},
   "outputs": [],
   "source": []
  }
 ],
 "metadata": {
  "kernelspec": {
   "display_name": "divya_ds_env",
   "language": "python",
   "name": "python3"
  },
  "language_info": {
   "codemirror_mode": {
    "name": "ipython",
    "version": 3
   },
   "file_extension": ".py",
   "mimetype": "text/x-python",
   "name": "python",
   "nbconvert_exporter": "python",
   "pygments_lexer": "ipython3",
   "version": "3.13.4"
  }
 },
 "nbformat": 4,
 "nbformat_minor": 2
}
