{
 "cells": [
  {
   "cell_type": "code",
   "execution_count": 1,
   "metadata": {},
   "outputs": [
    {
     "name": "stdout",
     "output_type": "stream",
     "text": [
      "1\n",
      "4\n",
      "9\n",
      "16\n",
      "25\n",
      "36\n",
      "59\n",
      "64\n",
      "81\n",
      "100\n"
     ]
    }
   ],
   "source": [
    "# print the lements of the list using the for loop\n",
    "\n",
    "list1 = [1,4,9,16,25,36, 59, 64, 81, 100]\n",
    "\n",
    "for val in list1:\n",
    "    print(val)"
   ]
  },
  {
   "cell_type": "code",
   "execution_count": 2,
   "metadata": {},
   "outputs": [
    {
     "name": "stdout",
     "output_type": "stream",
     "text": [
      "Entered number is not found in the tuple 3 at index 10\n"
     ]
    }
   ],
   "source": [
    "#This is LINEAR SEARCH\n",
    "\n",
    "\n",
    "# search for a number x in this tuple using for loop\n",
    "list1 = [1,4,9,16,25,36, 59, 64, 81, 100]\n",
    "number_to_search = int(input(\"Please enter the number to be searched\"))\n",
    "\n",
    "idx = 0\n",
    "for val in list1:\n",
    "    if (val == number_to_search):\n",
    "        print(\"Entered number is found in the tuple \", val ,\"at index\", idx)\n",
    "        break\n",
    "    idx +=1\n",
    "else:\n",
    "    print(\"Entered number is not found in the tuple\", number_to_search, \"at index\", idx)\n"
   ]
  },
  {
   "cell_type": "code",
   "execution_count": 5,
   "metadata": {},
   "outputs": [
    {
     "name": "stdout",
     "output_type": "stream",
     "text": [
      "1\n",
      "2\n",
      "3\n",
      "4\n",
      "5\n",
      "6\n",
      "7\n",
      "8\n",
      "9\n",
      "10\n"
     ]
    }
   ],
   "source": [
    "# using for and range()\n",
    "\n",
    "# print numbers for 1 to 10\n",
    "\n",
    "for val in range(1,11):\n",
    "    print(val)"
   ]
  },
  {
   "cell_type": "code",
   "execution_count": 7,
   "metadata": {},
   "outputs": [
    {
     "name": "stdout",
     "output_type": "stream",
     "text": [
      "10\n",
      "9\n",
      "8\n",
      "7\n",
      "6\n",
      "5\n",
      "4\n",
      "3\n",
      "2\n",
      "1\n"
     ]
    }
   ],
   "source": [
    "# print numbers from 10 to 1\n",
    "\n",
    "for val in range(10,0, -1):\n",
    "    print(val)"
   ]
  },
  {
   "cell_type": "code",
   "execution_count": null,
   "metadata": {},
   "outputs": [
    {
     "name": "stdout",
     "output_type": "stream",
     "text": [
      "3  *  0  =  0\n",
      "3  *  1  =  3\n",
      "3  *  2  =  6\n",
      "3  *  3  =  9\n",
      "3  *  4  =  12\n",
      "3  *  5  =  15\n",
      "3  *  6  =  18\n",
      "3  *  7  =  21\n",
      "3  *  8  =  24\n",
      "3  *  9  =  27\n",
      "3  *  10  =  30\n",
      "Out of For loop. I is  10\n"
     ]
    }
   ],
   "source": [
    "# print multiplication table of number n\n",
    "\n",
    "table = int(input(\"Enter the number for which you want to write table\"))\n",
    "\n",
    "for i in range(1, 11):\n",
    "    print(table ,\" * \", i , \" = \", table * i)\n",
    "else:\n",
    "    print(\"Out of For loop. I is \", i)"
   ]
  },
  {
   "cell_type": "code",
   "execution_count": 9,
   "metadata": {},
   "outputs": [
    {
     "name": "stdout",
     "output_type": "stream",
     "text": [
      "15\n"
     ]
    }
   ],
   "source": [
    "# WAP to find sum of first n numbers using for loop\n",
    "\n",
    "number = int(input(\"enter number\"))\n",
    "\n",
    "sum = 0\n",
    "\n",
    "for i in range(0,number+1):\n",
    "    sum = i + sum\n",
    "else:\n",
    "    print(sum)"
   ]
  },
  {
   "cell_type": "code",
   "execution_count": 20,
   "metadata": {},
   "outputs": [
    {
     "name": "stdout",
     "output_type": "stream",
     "text": [
      "1\n",
      "2\n",
      "3\n",
      "4\n",
      "5\n",
      "120\n"
     ]
    }
   ],
   "source": [
    "# WAP to find factorial of first n numbers\n",
    "# n! = 1 * 2 * 3 * ...... * n \n",
    "\n",
    "\n",
    "\n",
    "number = int(input(\"enter number to find factorial\"))\n",
    "\n",
    "fact = 1\n",
    "for i in range(1,number+1):\n",
    "    print(i)\n",
    "    \n",
    "    fact = fact * i\n",
    "\n",
    "print(fact)\n",
    "\n",
    "\n"
   ]
  },
  {
   "cell_type": "code",
   "execution_count": null,
   "metadata": {},
   "outputs": [],
   "source": []
  }
 ],
 "metadata": {
  "kernelspec": {
   "display_name": "divya_ds_env",
   "language": "python",
   "name": "python3"
  },
  "language_info": {
   "codemirror_mode": {
    "name": "ipython",
    "version": 3
   },
   "file_extension": ".py",
   "mimetype": "text/x-python",
   "name": "python",
   "nbconvert_exporter": "python",
   "pygments_lexer": "ipython3",
   "version": "3.13.4"
  }
 },
 "nbformat": 4,
 "nbformat_minor": 2
}
