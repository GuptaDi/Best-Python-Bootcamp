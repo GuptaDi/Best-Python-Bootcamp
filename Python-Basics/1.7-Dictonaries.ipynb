{
 "cells": [
  {
   "cell_type": "markdown",
   "metadata": {},
   "source": [
    "# Dictionaries\n",
    "Normally when you want meaning of a word in a dictonary, you search for the word. So, dictonary is a\n",
    "\n",
    "                 key:value pair\n",
    "\n",
    "\n",
    "Dictionaries as just like hash tables which has mappings.\n",
    "Mappings are a collection of objects that are stored by a *key*, unlike a sequence that stored objects by their relative position. This is an important distinction, since mappings won't retain order since they have objects defined by a key.\n",
    "\n",
    "A Python dictionary consists of a key and then an associated value. That value can be almost any Python object.\n",
    "\n",
    "\n",
    "## Constructing a Dictionary"
   ]
  },
  {
   "cell_type": "code",
   "execution_count": 4,
   "metadata": {},
   "outputs": [
    {
     "data": {
      "text/plain": [
       "'value2'"
      ]
     },
     "execution_count": 4,
     "metadata": {},
     "output_type": "execute_result"
    }
   ],
   "source": [
    "# Make a dictionary with {} and : to signify a key and a value\n",
    "my_dict = {'key1':'value1','key2':'value2'}\n",
    "# Call values by their key\n",
    "my_dict['key2']"
   ]
  },
  {
   "cell_type": "markdown",
   "metadata": {},
   "source": [
    "It is important to note that dictionaries are very flexible in the data types they can hold. For example:"
   ]
  },
  {
   "cell_type": "code",
   "execution_count": null,
   "metadata": {},
   "outputs": [],
   "source": [
    "my_dict = {'key1':123,'key2':[12,23,33],'key3':['item0','item1','item2']}\n",
    "# Let's call items from the dictionary\n",
    "print(my_dict['key3'])\n",
    "# Can call an index on that value\n",
    "print(my_dict['key3'][0])"
   ]
  },
  {
   "cell_type": "markdown",
   "metadata": {},
   "source": [
    "#### Note: \n",
    "If you see in list, tuple, strings = we always access them with index like 0, 1, 2. So, we always know which value is coming before and which is coming later.\n",
    "\n",
    "**But in DICTONARIES** , we have no order.- they are unordered and mutable(changeable) & don't allow duplicate keys.\n",
    "\n",
    "Tuples - immutable\n",
    "List, Dictonaries = mutable\n",
    "\n",
    "Like how in list, when we pass an index which doesnot exist, we get an error. Similarly, in Dictonaries, passing a key name which doesnot exist gives an error.\n"
   ]
  },
  {
   "cell_type": "code",
   "execution_count": 6,
   "metadata": {},
   "outputs": [
    {
     "ename": "KeyError",
     "evalue": "'key4'",
     "output_type": "error",
     "traceback": [
      "\u001b[31m---------------------------------------------------------------------------\u001b[39m",
      "\u001b[31mKeyError\u001b[39m                                  Traceback (most recent call last)",
      "\u001b[36mCell\u001b[39m\u001b[36m \u001b[39m\u001b[32mIn[6]\u001b[39m\u001b[32m, line 3\u001b[39m\n\u001b[32m      1\u001b[39m my_dict = {\u001b[33m'\u001b[39m\u001b[33mkey1\u001b[39m\u001b[33m'\u001b[39m:\u001b[33m'\u001b[39m\u001b[33mvalue1\u001b[39m\u001b[33m'\u001b[39m,\u001b[33m'\u001b[39m\u001b[33mkey2\u001b[39m\u001b[33m'\u001b[39m:\u001b[33m'\u001b[39m\u001b[33mvalue2\u001b[39m\u001b[33m'\u001b[39m}\n\u001b[32m----> \u001b[39m\u001b[32m3\u001b[39m \u001b[38;5;28mprint\u001b[39m(\u001b[43mmy_dict\u001b[49m\u001b[43m[\u001b[49m\u001b[33;43m\"\u001b[39;49m\u001b[33;43mkey4\u001b[39;49m\u001b[33;43m\"\u001b[39;49m\u001b[43m]\u001b[49m)\n",
      "\u001b[31mKeyError\u001b[39m: 'key4'"
     ]
    }
   ],
   "source": [
    "my_dict = {'key1':'value1','key2':'value2'}\n",
    "\n",
    "print(my_dict[\"key4\"])"
   ]
  },
  {
   "cell_type": "code",
   "execution_count": null,
   "metadata": {},
   "outputs": [
    {
     "name": "stdout",
     "output_type": "stream",
     "text": [
      "{'key1': 'value1', 'key2': 'New value2'}\n"
     ]
    }
   ],
   "source": [
    "# change value at a key\n",
    "my_dict = {'key1':'value1','key2':'value2'}\n",
    "my_dict[\"key2\"] = \"New value2\"\n",
    "\n",
    "print(my_dict)\n",
    "\n"
   ]
  },
  {
   "cell_type": "code",
   "execution_count": 9,
   "metadata": {},
   "outputs": [
    {
     "name": "stdout",
     "output_type": "stream",
     "text": [
      "{'key1': 'value1', 'key2': 'value2', 'key3': 'A new key added in existing dictonary'}\n"
     ]
    }
   ],
   "source": [
    "# adding a new key in the existing dictonary\n",
    "my_dict = {'key1':'value1','key2':'value2'}\n",
    "\n",
    "my_dict[\"key3\"] = \"A new key added in existing dictonary\"\n",
    "print(my_dict)\n"
   ]
  },
  {
   "cell_type": "code",
   "execution_count": 14,
   "metadata": {},
   "outputs": [
    {
     "name": "stdout",
     "output_type": "stream",
     "text": [
      " This is empty dictonary  {}\n",
      "Modified Dict -  {'animal': 'Dog', 'answer': 42}\n"
     ]
    }
   ],
   "source": [
    "# creating an empty dictonary\n",
    "dict = {}\n",
    "print(\" This is empty dictonary \", dict)\n",
    "\n",
    "# Create a new key through assignment\n",
    "dict['animal'] = 'Dog'\n",
    "\n",
    "# Can do this with any object\n",
    "dict['answer'] = 42\n",
    "\n",
    "print(\"Modified Dict - \", dict)"
   ]
  },
  {
   "cell_type": "code",
   "execution_count": 12,
   "metadata": {},
   "outputs": [
    {
     "data": {
      "text/plain": [
       "0"
      ]
     },
     "execution_count": 12,
     "metadata": {},
     "output_type": "execute_result"
    }
   ],
   "source": [
    "my_dict = {'key1':123,'key2':[12,23,33],'key3':['item0','item1','item2']}\n",
    "# Subtract 123 from the value\n",
    "my_dict['key1'] = my_dict['key1'] - 123\n",
    "#Check\n",
    "my_dict['key1']"
   ]
  },
  {
   "cell_type": "markdown",
   "metadata": {},
   "source": [
    "A quick note, Python has a built-in method of doing a self subtraction or addition (or multiplication or division). We could have also used += or -= for the above statement. For example:"
   ]
  },
  {
   "cell_type": "code",
   "execution_count": 13,
   "metadata": {},
   "outputs": [
    {
     "data": {
      "text/plain": [
       "-123"
      ]
     },
     "execution_count": 13,
     "metadata": {},
     "output_type": "execute_result"
    }
   ],
   "source": [
    "# Set the object equal to itself minus 123 \n",
    "my_dict['key1'] -= 123\n",
    "my_dict['key1']"
   ]
  },
  {
   "cell_type": "markdown",
   "metadata": {},
   "source": [
    "## Nesting with Dictionaries\n",
    "\n",
    "value is a type of dictonary with key value"
   ]
  },
  {
   "cell_type": "code",
   "execution_count": 17,
   "metadata": {},
   "outputs": [
    {
     "name": "stdout",
     "output_type": "stream",
     "text": [
      " Student record  {'name': 'Divya Gupta', 'subjects': {'phy': 93, 'chem': 98, 'math': 100}}\n",
      " Student subject record  {'phy': 93, 'chem': 98, 'math': 100}\n",
      "student chemistry record  98\n"
     ]
    }
   ],
   "source": [
    "student = {\n",
    "    \"name\" : \"Divya Gupta\",\n",
    "    \"subjects\":{\n",
    "        \"phy\" : 93,\n",
    "        \"chem\": 98,\n",
    "        \"math\": 100\n",
    "    }\n",
    "}\n",
    "\n",
    "print(\" Student record \", student)\n",
    "print(\" Student subject record \", student['subjects'])\n",
    "print(\"student chemistry record \", student[\"subjects\"][\"chem\"])"
   ]
  },
  {
   "cell_type": "markdown",
   "metadata": {},
   "source": [
    "### Dictonaries methods"
   ]
  },
  {
   "cell_type": "code",
   "execution_count": null,
   "metadata": {},
   "outputs": [
    {
     "name": "stdout",
     "output_type": "stream",
     "text": [
      "dict_keys(['name', 'subjects'])\n"
     ]
    }
   ],
   "source": [
    "# GRAB  - return all keys from outer\n",
    "print(student.keys()) # return all keys from outer"
   ]
  },
  {
   "cell_type": "code",
   "execution_count": null,
   "metadata": {},
   "outputs": [
    {
     "name": "stdout",
     "output_type": "stream",
     "text": [
      "dict_values(['Divya Gupta', {'phy': 93, 'chem': 98, 'math': 100}])\n"
     ]
    }
   ],
   "source": [
    "# GRAB all values of a dictonary\n",
    "\n",
    "print(student.values()) # return all the values of a dictonary. The inner dictonary is also a value."
   ]
  },
  {
   "cell_type": "code",
   "execution_count": 22,
   "metadata": {},
   "outputs": [
    {
     "name": "stdout",
     "output_type": "stream",
     "text": [
      "['name', 'subjects']\n",
      "['Divya Gupta', {'phy': 93, 'chem': 98, 'math': 100}]\n"
     ]
    }
   ],
   "source": [
    "# converting a dict result in a list\n",
    "print(list(student.keys()))\n",
    "\n",
    "# NOTE : we can store dictonaries in a list and list in a dictonary\n",
    "\n",
    "print(list(student.values()))"
   ]
  },
  {
   "cell_type": "code",
   "execution_count": 23,
   "metadata": {},
   "outputs": [
    {
     "name": "stdout",
     "output_type": "stream",
     "text": [
      "dict_items([('name', 'Divya Gupta'), ('subjects', {'phy': 93, 'chem': 98, 'math': 100})])\n"
     ]
    }
   ],
   "source": [
    "# GRAB all (key,value) pairs as tuples\n",
    "\n",
    "print(student.items())"
   ]
  },
  {
   "cell_type": "code",
   "execution_count": null,
   "metadata": {},
   "outputs": [
    {
     "name": "stdout",
     "output_type": "stream",
     "text": [
      "Divya Gupta\n",
      "Divya Gupta\n"
     ]
    }
   ],
   "source": [
    "# Grab a value using a get method. \n",
    "print(student[\"name\"])\n",
    "print(student.get(\"name\")) "
   ]
  },
  {
   "cell_type": "code",
   "execution_count": 25,
   "metadata": {},
   "outputs": [
    {
     "name": "stdout",
     "output_type": "stream",
     "text": [
      "None\n"
     ]
    }
   ],
   "source": [
    "# Why we need a .get(). Check it with calling a key that doesnot exist.\n",
    "# print(student[\"name2\"])  # error. So, in practical scenarios, we try not to use this way.\n",
    "print(student.get(\"name2\"))   # no error. prints \"None\""
   ]
  },
  {
   "cell_type": "code",
   "execution_count": 26,
   "metadata": {},
   "outputs": [
    {
     "name": "stdout",
     "output_type": "stream",
     "text": [
      "{'name': 'Divya Gupta', 'subjects': {'phy': 93, 'chem': 98, 'math': 100}, 'city': 'Delhi'}\n",
      "{'name': 'Divya Mittal', 'subjects': {'phy': 93, 'chem': 98, 'math': 100}, 'city': 'Delhi'}\n"
     ]
    }
   ],
   "source": [
    "# Update a dictonary.\n",
    "student.update({\"city\": \"Delhi\"})\n",
    "print(student)\n",
    "\n",
    "# update existing key\n",
    "student.update({\"name\":\"Divya Mittal\"})\n",
    "print(student)"
   ]
  },
  {
   "cell_type": "code",
   "execution_count": null,
   "metadata": {},
   "outputs": [],
   "source": []
  }
 ],
 "metadata": {
  "kernelspec": {
   "display_name": "divya_ds_env",
   "language": "python",
   "name": "python3"
  },
  "language_info": {
   "codemirror_mode": {
    "name": "ipython",
    "version": 3
   },
   "file_extension": ".py",
   "mimetype": "text/x-python",
   "name": "python",
   "nbconvert_exporter": "python",
   "pygments_lexer": "ipython3",
   "version": "3.13.4"
  }
 },
 "nbformat": 4,
 "nbformat_minor": 2
}
