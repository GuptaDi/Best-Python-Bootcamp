{
 "cells": [
  {
   "cell_type": "code",
   "execution_count": 1,
   "metadata": {},
   "outputs": [
    {
     "data": {
      "text/plain": [
       "'hello'"
      ]
     },
     "execution_count": 1,
     "metadata": {},
     "output_type": "execute_result"
    }
   ],
   "source": [
    "# Single word\n",
    "'hello'"
   ]
  },
  {
   "cell_type": "code",
   "execution_count": 2,
   "metadata": {},
   "outputs": [
    {
     "data": {
      "text/plain": [
       "'This is also a string'"
      ]
     },
     "execution_count": 2,
     "metadata": {},
     "output_type": "execute_result"
    }
   ],
   "source": [
    "# Entire phrase \n",
    "'This is also a string'"
   ]
  },
  {
   "cell_type": "code",
   "execution_count": 3,
   "metadata": {},
   "outputs": [
    {
     "data": {
      "text/plain": [
       "'String built with double quotes'"
      ]
     },
     "execution_count": 3,
     "metadata": {},
     "output_type": "execute_result"
    }
   ],
   "source": [
    "# We can also use double quote\n",
    "\"String built with double quotes\""
   ]
  },
  {
   "cell_type": "code",
   "execution_count": 4,
   "metadata": {},
   "outputs": [
    {
     "data": {
      "text/plain": [
       "\" I'm using single quotes, but this will create an error\""
      ]
     },
     "execution_count": 4,
     "metadata": {},
     "output_type": "execute_result"
    }
   ],
   "source": [
    "# Be careful with quotes!\n",
    "' I\\'m using single quotes, but this will create an error'"
   ]
  },
  {
   "cell_type": "markdown",
   "metadata": {},
   "source": [
    "## String Basics"
   ]
  },
  {
   "cell_type": "code",
   "execution_count": 5,
   "metadata": {},
   "outputs": [
    {
     "data": {
      "text/plain": [
       "11"
      ]
     },
     "execution_count": 5,
     "metadata": {},
     "output_type": "execute_result"
    }
   ],
   "source": [
    "len('Hello World')"
   ]
  },
  {
   "cell_type": "markdown",
   "metadata": {},
   "source": [
    "Python's built-in len() function counts all of the characters in the string, including spaces and punctuation."
   ]
  },
  {
   "cell_type": "markdown",
   "metadata": {},
   "source": [
    "## String Indexing\n",
    "We know strings are a sequence, which means Python can use indexes to call parts of the sequence. Let's learn how this works.\n",
    "\n",
    "In Python, we use brackets <code>[]</code> after an object to call its index. We should also note that indexing starts at 0 for Python. Let's create a new object called <code>s</code> and then walk through a few examples of indexing."
   ]
  },
  {
   "cell_type": "code",
   "execution_count": 3,
   "metadata": {},
   "outputs": [
    {
     "name": "stdout",
     "output_type": "stream",
     "text": [
      "11\n",
      "H\n",
      "W\n"
     ]
    }
   ],
   "source": [
    "word = \"Hello World\"\n",
    "print(len(word))   # length is printed including space\n",
    "print(word[0])\n",
    "print(word[6])\n"
   ]
  },
  {
   "cell_type": "markdown",
   "metadata": {},
   "source": [
    "# String Slicing \n",
    "\n",
    "We can use a <code>:</code> to perform *slicing* which grabs everything up to a designated point. from [0:3] , It doesn't include the 3rd index. means, 0, 1, 2 will be shown. \n",
    "\n",
    "We can also use negative indexing to go backwards."
   ]
  },
  {
   "cell_type": "code",
   "execution_count": null,
   "metadata": {},
   "outputs": [
    {
     "name": "stdout",
     "output_type": "stream",
     "text": [
      "ello World\n",
      "Hel\n",
      "Hello World\n"
     ]
    }
   ],
   "source": [
    "word = \"Hello World\"\n",
    "# Grab everything past the first term all the way to the length of s which is len(s)\n",
    "print(word[1:])     # [1:len(word)] \n",
    "\n",
    "# Grab everything UP TO the 3rd index\n",
    "print(word[:3])   #[0:4]\n",
    "\n",
    "#Everything\n",
    "print(word[:])\n",
    "\n"
   ]
  },
  {
   "cell_type": "code",
   "execution_count": 22,
   "metadata": {},
   "outputs": [
    {
     "name": "stdout",
     "output_type": "stream",
     "text": [
      "d\n",
      "Hello Worl\n",
      "rld\n",
      "rl\n"
     ]
    }
   ],
   "source": [
    "word = \"Hello World\"\n",
    "\n",
    "# Last letter (one index behind 0 so it loops back around)\n",
    "print(word[-1])\n",
    "\n",
    "# Grab everything but the last letter\n",
    "print(word[:-1])\n",
    "\n",
    "print(word[-3:len(word)])\n",
    "print(word[-3:-1])\n"
   ]
  },
  {
   "cell_type": "markdown",
   "metadata": {},
   "source": [
    "We can also use index and slice notation to grab elements of a sequence by a specified step size (the default is 1). the number tells the frequency of elements to grab"
   ]
  },
  {
   "cell_type": "code",
   "execution_count": 19,
   "metadata": {},
   "outputs": [
    {
     "name": "stdout",
     "output_type": "stream",
     "text": [
      "Hello World\n",
      "HloWrd\n",
      "dlroW olleH\n"
     ]
    }
   ],
   "source": [
    "word = \"Hello World\"\n",
    "# Grab everything, but go in steps size of 1\n",
    "print(word[::1])\n",
    "\n",
    "# Grab everything, but go in step sizes of 2\n",
    "print(word[::2])\n",
    "\n",
    "# We can use this to print a string backwards\n",
    "print(word[::-1])"
   ]
  },
  {
   "cell_type": "markdown",
   "metadata": {},
   "source": [
    "# String Manipulation\n",
    "\n",
    "Strings once created cannot be manipulated.\n"
   ]
  },
  {
   "cell_type": "code",
   "execution_count": 7,
   "metadata": {},
   "outputs": [
    {
     "ename": "TypeError",
     "evalue": "'str' object does not support item assignment",
     "output_type": "error",
     "traceback": [
      "\u001b[31m---------------------------------------------------------------------------\u001b[39m",
      "\u001b[31mTypeError\u001b[39m                                 Traceback (most recent call last)",
      "\u001b[36mCell\u001b[39m\u001b[36m \u001b[39m\u001b[32mIn[7]\u001b[39m\u001b[32m, line 2\u001b[39m\n\u001b[32m      1\u001b[39m \u001b[38;5;66;03m# string manipulation is not allowed\u001b[39;00m\n\u001b[32m----> \u001b[39m\u001b[32m2\u001b[39m \u001b[43mword\u001b[49m\u001b[43m[\u001b[49m\u001b[32;43m3\u001b[39;49m\u001b[43m]\u001b[49m = \u001b[33m\"\u001b[39m\u001b[33mw\u001b[39m\u001b[33m\"\u001b[39m\n",
      "\u001b[31mTypeError\u001b[39m: 'str' object does not support item assignment"
     ]
    }
   ],
   "source": [
    "# string manipulation is not allowed\n",
    "word[3] = \"w\""
   ]
  },
  {
   "cell_type": "code",
   "execution_count": 11,
   "metadata": {},
   "outputs": [
    {
     "name": "stdout",
     "output_type": "stream",
     "text": [
      "Hello world concatenate me!\n",
      "Hello world concatenate me!\n"
     ]
    }
   ],
   "source": [
    "word = \"Hello world\"\n",
    "# Concatenate strings!\n",
    "print(word + ' concatenate me!')\n",
    "\n",
    "# We can reassign s completely though!\n",
    "word = word + ' concatenate me!'\n",
    "print(word)"
   ]
  },
  {
   "cell_type": "markdown",
   "metadata": {},
   "source": [
    "We can use the multiplication symbol to create repetition!"
   ]
  },
  {
   "cell_type": "code",
   "execution_count": 14,
   "metadata": {},
   "outputs": [
    {
     "data": {
      "text/plain": [
       "'aaaaaaaaaa'"
      ]
     },
     "execution_count": 14,
     "metadata": {},
     "output_type": "execute_result"
    }
   ],
   "source": [
    "letter = 'a'\n",
    "\n",
    "letter*10"
   ]
  },
  {
   "cell_type": "markdown",
   "metadata": {},
   "source": [
    "# String Functions"
   ]
  },
  {
   "cell_type": "code",
   "execution_count": null,
   "metadata": {},
   "outputs": [
    {
     "name": "stdout",
     "output_type": "stream",
     "text": [
      "False\n",
      "I am a coder.i am a girl.\n",
      "i aO a coder.I aO a girl.\n",
      "3 returns 1st index of 1st occurence\n",
      "7 returns 1st index of 1st occurence of word\n",
      "2 count the occurence of substr in a string\n",
      "i am a coder.I am a girl.\n"
     ]
    }
   ],
   "source": [
    "str = \"i am a coder.I am a girl.\"\n",
    "\n",
    "print(str.endswith(\"er\")) # returns true if string ends with \"er\"\n",
    "print(str.capitalize()) # capitalize 1st character\n",
    "print(str.replace(\"m\",\"O\")) # replaces all occurences of old with new\n",
    "print(str.find(\"m\"), \"returns 1st index of 1st occurence\") # returns 1st index of 1st occurence\n",
    "print(str.find(\"coder\"), \"returns 1st index of 1st occurence of word\")\n",
    "print(str.count(\"am\"), \"count the occurence of substr in a string\")   # count the occurence of substr in a string \n",
    "\n",
    "print(str, \" The original string is unchanged.\") # the old string remains the same."
   ]
  },
  {
   "cell_type": "code",
   "execution_count": null,
   "metadata": {},
   "outputs": [],
   "source": []
  }
 ],
 "metadata": {
  "kernelspec": {
   "display_name": "divya_ds_env",
   "language": "python",
   "name": "python3"
  },
  "language_info": {
   "codemirror_mode": {
    "name": "ipython",
    "version": 3
   },
   "file_extension": ".py",
   "mimetype": "text/x-python",
   "name": "python",
   "nbconvert_exporter": "python",
   "pygments_lexer": "ipython3",
   "version": "3.13.4"
  }
 },
 "nbformat": 4,
 "nbformat_minor": 2
}
