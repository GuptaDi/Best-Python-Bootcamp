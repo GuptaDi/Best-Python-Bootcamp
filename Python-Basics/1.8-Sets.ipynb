{
 "cells": [
  {
   "cell_type": "markdown",
   "metadata": {},
   "source": [
    "## Sets\n",
    "\n",
    "Sets are an unordered collection of *unique* elements. We can construct them by using the set() function.\n",
    "Set = each element is unique.\n",
    "    = **each element** is immutable(not changeable)\n",
    "\n",
    "**NOTE:** Sets itself are mutable. Then only we can apply different methods on them. \n",
    "But the elements of sets are immutable.\n",
    "\n",
    "Set --> mutable\n",
    "Set(elements) --> immutable\n",
    "\n",
    "We cannot store list and dictonaries in sets. Because list and dict, are mutable.\n",
    "We can store, string, int, tuple, boolean, and other mutable values in the sets."
   ]
  },
  {
   "cell_type": "code",
   "execution_count": 21,
   "metadata": {},
   "outputs": [
    {
     "name": "stdout",
     "output_type": "stream",
     "text": [
      "set() <class 'set'>\n",
      "{} <class 'dict'>\n"
     ]
    }
   ],
   "source": [
    "# creating an empty set \n",
    "x = set()  \n",
    "\n",
    "# creating an empty dictonary \n",
    "y = {}\n",
    "\n",
    "print(x, type(x))\n",
    "print(y, type(y))"
   ]
  },
  {
   "cell_type": "code",
   "execution_count": 22,
   "metadata": {},
   "outputs": [
    {
     "name": "stdout",
     "output_type": "stream",
     "text": [
      "{1}\n"
     ]
    }
   ],
   "source": [
    "# We add to sets with the add() method\n",
    "x.add(1)\n",
    "x.add(1)\n",
    "print(x)"
   ]
  },
  {
   "cell_type": "markdown",
   "metadata": {},
   "source": [
    "Note the curly brackets. This does not indicate a dictionary! Although you can draw analogies as a set being a dictionary with only keys.\n",
    "\n",
    "We know that a set has only unique entries. So what happens when we try to add something that is already in a set?"
   ]
  },
  {
   "cell_type": "code",
   "execution_count": null,
   "metadata": {},
   "outputs": [
    {
     "name": "stdout",
     "output_type": "stream",
     "text": [
      "{32, 1, 2, 3}\n"
     ]
    }
   ],
   "source": [
    "nums = {1,2,3,4}\n",
    "set2 = {1,2,3,32,2,1} # set is a collection of unique elements. Repeated elements stored only once.\n",
    "\n",
    "print(set2)"
   ]
  },
  {
   "cell_type": "code",
   "execution_count": null,
   "metadata": {},
   "outputs": [
    {
     "name": "stdout",
     "output_type": "stream",
     "text": [
      "<class 'set'>\n",
      "{1, 2, 3, 3.23, 4, 'world', 'str val', 'hello'}\n"
     ]
    }
   ],
   "source": [
    "# set have no keys. Just values. \n",
    "# Duplicates removed.\n",
    "# unordered. No necessary, the value you passed in the last will always come in the last.\n",
    "\n",
    "collection = {1,2,3,4, \"str val\", 3.23, True, 2,\"hello\", \"world\", \"world\"}   \n",
    "print(type(collection))\n",
    "print(collection)\n"
   ]
  },
  {
   "cell_type": "code",
   "execution_count": null,
   "metadata": {},
   "outputs": [
    {
     "name": "stdout",
     "output_type": "stream",
     "text": [
      "8\n"
     ]
    }
   ],
   "source": [
    "# boolean value is not getting counted.\n",
    "\n",
    "collection = {1,2,3,4, \"str val\", 3.23, 2,\"hello\", \"world\", \"world\"}     \n",
    "\n",
    "print(len(collection))"
   ]
  },
  {
   "cell_type": "code",
   "execution_count": null,
   "metadata": {},
   "outputs": [
    {
     "ename": "TypeError",
     "evalue": "unhashable type: 'list'",
     "output_type": "error",
     "traceback": [
      "\u001b[31m---------------------------------------------------------------------------\u001b[39m",
      "\u001b[31mTypeError\u001b[39m                                 Traceback (most recent call last)",
      "\u001b[36mCell\u001b[39m\u001b[36m \u001b[39m\u001b[32mIn[23]\u001b[39m\u001b[32m, line 2\u001b[39m\n\u001b[32m      1\u001b[39m x = {\u001b[32m1\u001b[39m,\u001b[32m3\u001b[39m}\n\u001b[32m----> \u001b[39m\u001b[32m2\u001b[39m \u001b[43mx\u001b[49m\u001b[43m.\u001b[49m\u001b[43madd\u001b[49m\u001b[43m(\u001b[49m\u001b[43m[\u001b[49m\u001b[33;43m\"\u001b[39;49m\u001b[33;43mlistelem1\u001b[39;49m\u001b[33;43m\"\u001b[39;49m\u001b[43m]\u001b[49m\u001b[43m)\u001b[49m\n",
      "\u001b[31mTypeError\u001b[39m: unhashable type: 'list'"
     ]
    }
   ],
   "source": [
    "# cannot add list in a set. Unhashable type error.\n",
    "\n",
    "x = {1,3}\n",
    "x.add([\"listelem1\"])"
   ]
  },
  {
   "cell_type": "code",
   "execution_count": null,
   "metadata": {},
   "outputs": [
    {
     "name": "stdout",
     "output_type": "stream",
     "text": [
      "1\n",
      "2\n",
      "3\n"
     ]
    }
   ],
   "source": [
    "collection = {1,2,3,4, \"str val\", 3.23, True, 2,\"hello\", \"world\", \"world\"}   \n",
    "\n",
    "# pop will not always follows the sequence. It will remove random elements.\n",
    "print(collection.pop()) # removes a random element\n",
    "print(collection.pop())\n",
    "print(collection.pop())"
   ]
  },
  {
   "cell_type": "code",
   "execution_count": 28,
   "metadata": {},
   "outputs": [
    {
     "name": "stdout",
     "output_type": "stream",
     "text": [
      "0\n"
     ]
    }
   ],
   "source": [
    "collection = {1,2,3,4, \"str val\", 3.23, True, 2,\"hello\", \"world\", \"world\"}   \n",
    "\n",
    "collection.clear() # empties the collection\n",
    "print(len(collection))"
   ]
  },
  {
   "cell_type": "code",
   "execution_count": 32,
   "metadata": {},
   "outputs": [
    {
     "name": "stdout",
     "output_type": "stream",
     "text": [
      "Union of set1 and set2  {1, 2, 3, 4}\n",
      "Set1 remains unchanged -  {1, 2, 3}\n",
      "Set2 remains unchanged -  {2, 3, 4}\n"
     ]
    }
   ],
   "source": [
    "# set.union - combine both values and return a new\n",
    "set1 = {1,2,3}\n",
    "set2 = { 2,4,3,2}\n",
    "\n",
    "print(\"Union of set1 and set2 \", set1.union(set2))\n",
    "print(\"Set1 remains unchanged - \",set1)\n",
    "print(\"Set2 remains unchanged - \",set2)\n",
    "\n"
   ]
  },
  {
   "cell_type": "code",
   "execution_count": null,
   "metadata": {},
   "outputs": [
    {
     "name": "stdout",
     "output_type": "stream",
     "text": [
      "Intersection of set1 and set2  {2, 3}\n",
      "Set1 remains unchanged -  {1, 2, 3}\n",
      "Set2 remains unchanged -  {2, 3, 4}\n"
     ]
    }
   ],
   "source": [
    "# set.intersection - combine common values and returns new. No duplicates.\n",
    "\n",
    "set1 = {1,2,3}\n",
    "set2 = { 2,4,3,2}\n",
    "\n",
    "print(\"Intersection of set1 and set2 \", set1.intersection(set2))\n",
    "print(\"Set1 remains unchanged - \",set1)\n",
    "print(\"Set2 remains unchanged - \",set2)\n",
    "\n"
   ]
  },
  {
   "cell_type": "code",
   "execution_count": null,
   "metadata": {},
   "outputs": [],
   "source": []
  }
 ],
 "metadata": {
  "kernelspec": {
   "display_name": "divya_ds_env",
   "language": "python",
   "name": "python3"
  },
  "language_info": {
   "codemirror_mode": {
    "name": "ipython",
    "version": 3
   },
   "file_extension": ".py",
   "mimetype": "text/x-python",
   "name": "python",
   "nbconvert_exporter": "python",
   "pygments_lexer": "ipython3",
   "version": "3.13.4"
  }
 },
 "nbformat": 4,
 "nbformat_minor": 2
}
