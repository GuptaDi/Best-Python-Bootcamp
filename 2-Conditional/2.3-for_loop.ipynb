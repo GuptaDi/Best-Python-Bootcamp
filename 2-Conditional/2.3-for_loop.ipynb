{
 "cells": [
  {
   "cell_type": "code",
   "execution_count": 2,
   "metadata": {},
   "outputs": [
    {
     "name": "stdout",
     "output_type": "stream",
     "text": [
      "potato\n",
      "carrots\n",
      "brinjal\n",
      "ladyfinger\n"
     ]
    }
   ],
   "source": [
    "veggies = [\"potato\", \"carrots\", \"brinjal\", \"ladyfinger\"]\n",
    "\n",
    "for val in veggies:\n",
    "    print(val)"
   ]
  },
  {
   "cell_type": "markdown",
   "metadata": {},
   "source": [
    "## Use Loops\n",
    "\n",
    "While ==== If you have to work on an iterator - like we have a variable, we are updating its value.\n",
    "\n",
    "For  ===== if you want to traverse on a datatype, like tuple, list, strings."
   ]
  },
  {
   "cell_type": "code",
   "execution_count": 3,
   "metadata": {},
   "outputs": [
    {
     "name": "stdout",
     "output_type": "stream",
     "text": [
      "1\n",
      "2\n",
      "3\n",
      "45.3\n",
      "3\n",
      "42\n",
      "346\n"
     ]
    }
   ],
   "source": [
    "tup = (1,2,3,45.3,3,42,346)\n",
    "\n",
    "for val in tup:\n",
    "    print(val)"
   ]
  },
  {
   "cell_type": "code",
   "execution_count": 6,
   "metadata": {},
   "outputs": [
    {
     "name": "stdout",
     "output_type": "stream",
     "text": [
      "v\n",
      "a\n",
      "l\n",
      "u\n",
      "e\n",
      "_\n",
      "o\n",
      "f\n"
     ]
    }
   ],
   "source": [
    "str = \"value_of\"\n",
    "for char in str:\n",
    "    print(char)"
   ]
  },
  {
   "cell_type": "markdown",
   "metadata": {},
   "source": [
    "#### For - else loop .\n",
    "else will not execute in case of break in for loop\n",
    "\n",
    "Why we need else + for in loops????\n",
    "It is used in cases where we have break in for loop."
   ]
  },
  {
   "cell_type": "code",
   "execution_count": 11,
   "metadata": {},
   "outputs": [
    {
     "name": "stdout",
     "output_type": "stream",
     "text": [
      "v\n",
      "a\n",
      "l\n",
      "u\n",
      "e\n",
      "_\n",
      "o\n",
      "f\n",
      "End of loop. \n",
      "Else in for will always execute once the for loop is completed.\n",
      "It will not execute in case of break.\n"
     ]
    }
   ],
   "source": [
    "str = \"value_of\"\n",
    "for char in str:\n",
    "    print(char)\n",
    "else:\n",
    "    print(\"End of loop. \\nElse in for will always execute once the for loop is completed.\\nIt will not execute in case of break.\")"
   ]
  },
  {
   "cell_type": "code",
   "execution_count": 12,
   "metadata": {},
   "outputs": [
    {
     "name": "stdout",
     "output_type": "stream",
     "text": [
      "v\n",
      "a\n",
      "l\n",
      "u\n",
      "e\n",
      "_ found\n"
     ]
    }
   ],
   "source": [
    "str = \"value_of\"\n",
    "for char in str:\n",
    "    if(char == '_'):\n",
    "        print(\"_ found\")\n",
    "        break\n",
    "    print(char)\n",
    "else:\n",
    "    print(\"End of loop.\\n This will not be printed since break is used.\")"
   ]
  },
  {
   "cell_type": "markdown",
   "metadata": {},
   "source": [
    "# Range()\n",
    "\n",
    "range() returns a sequence of numbers, starting from 0 by default, and increments by 1 and stops before a specified number.\n",
    "\n",
    "range(start?, stop, step?)\n"
   ]
  },
  {
   "cell_type": "code",
   "execution_count": 13,
   "metadata": {},
   "outputs": [
    {
     "name": "stdout",
     "output_type": "stream",
     "text": [
      "0\n",
      "1\n",
      "2\n",
      "3\n",
      "4\n"
     ]
    }
   ],
   "source": [
    "for el in range(5):\n",
    "    print(el)"
   ]
  },
  {
   "cell_type": "code",
   "execution_count": 14,
   "metadata": {},
   "outputs": [
    {
     "name": "stdout",
     "output_type": "stream",
     "text": [
      "1\n",
      "2\n",
      "3\n",
      "4\n"
     ]
    }
   ],
   "source": [
    "for el in range(1,5):\n",
    "    print(el)"
   ]
  },
  {
   "cell_type": "code",
   "execution_count": null,
   "metadata": {},
   "outputs": [
    {
     "name": "stdout",
     "output_type": "stream",
     "text": [
      "1\n",
      "3\n"
     ]
    }
   ],
   "source": [
    "for el in range(1,5,2):    \n",
    "    print(el)"
   ]
  },
  {
   "cell_type": "markdown",
   "metadata": {},
   "source": [
    "# Pass\n",
    " suppose we want to run a loop and still needs to be empty, use pass. \n",
    " Mostly used in exceptions in try/catch"
   ]
  },
  {
   "cell_type": "code",
   "execution_count": null,
   "metadata": {},
   "outputs": [
    {
     "ename": "IndentationError",
     "evalue": "expected an indented block after 'for' statement on line 1 (482903987.py, line 4)",
     "output_type": "error",
     "traceback": [
      "  \u001b[36mCell\u001b[39m\u001b[36m \u001b[39m\u001b[32mIn[16]\u001b[39m\u001b[32m, line 4\u001b[39m\n\u001b[31m    \u001b[39m\u001b[31mprint(\"Out of for loop\")\u001b[39m\n    ^\n\u001b[31mIndentationError\u001b[39m\u001b[31m:\u001b[39m expected an indented block after 'for' statement on line 1\n"
     ]
    }
   ],
   "source": [
    "\n",
    "for i in range(5):\n",
    "    #empty\n",
    "\n",
    "print(\"Out of for loop\")"
   ]
  },
  {
   "cell_type": "code",
   "execution_count": 17,
   "metadata": {},
   "outputs": [
    {
     "name": "stdout",
     "output_type": "stream",
     "text": [
      "Out of for loop\n"
     ]
    }
   ],
   "source": [
    "for i in range(5):\n",
    "   pass\n",
    "\n",
    "print(\"Out of for loop\")"
   ]
  },
  {
   "cell_type": "code",
   "execution_count": 19,
   "metadata": {},
   "outputs": [
    {
     "name": "stdout",
     "output_type": "stream",
     "text": [
      "6 is greater than 5\n",
      "Out of for loop\n"
     ]
    }
   ],
   "source": [
    "i = 6\n",
    "if i>5:\n",
    "    print(i, \"is greater than 5\")\n",
    "    pass\n",
    "   \n",
    "print(\"Out of for loop\")"
   ]
  },
  {
   "cell_type": "code",
   "execution_count": null,
   "metadata": {},
   "outputs": [],
   "source": []
  }
 ],
 "metadata": {
  "kernelspec": {
   "display_name": "divya_ds_env",
   "language": "python",
   "name": "python3"
  },
  "language_info": {
   "codemirror_mode": {
    "name": "ipython",
    "version": 3
   },
   "file_extension": ".py",
   "mimetype": "text/x-python",
   "name": "python",
   "nbconvert_exporter": "python",
   "pygments_lexer": "ipython3",
   "version": "3.13.4"
  }
 },
 "nbformat": 4,
 "nbformat_minor": 2
}
