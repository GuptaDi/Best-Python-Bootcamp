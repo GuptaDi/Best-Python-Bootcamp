{
 "cells": [
  {
   "cell_type": "markdown",
   "metadata": {},
   "source": [
    "# if, elif, else Statements\n",
    "\n",
    "<code>if</code> Statements in Python allows us to tell the computer to perform alternative actions based on a certain set of results.\n",
    "\n",
    "    if case1:\n",
    "        perform action1\n",
    "    elif case2:\n",
    "        perform action2\n",
    "    else: \n",
    "        perform action3"
   ]
  },
  {
   "cell_type": "code",
   "execution_count": null,
   "metadata": {},
   "outputs": [],
   "source": [
    "if True:\n",
    "    print('It was true!')"
   ]
  },
  {
   "cell_type": "code",
   "execution_count": 13,
   "metadata": {},
   "outputs": [
    {
     "name": "stdout",
     "output_type": "stream",
     "text": [
      "I will be printed in any case where x is not true\n"
     ]
    }
   ],
   "source": [
    "x = False\n",
    "\n",
    "if x:\n",
    "    print('x was True!')\n",
    "else:\n",
    "    print('I will be printed in any case where x is not true')"
   ]
  },
  {
   "cell_type": "code",
   "execution_count": 8,
   "metadata": {},
   "outputs": [
    {
     "name": "stdout",
     "output_type": "stream",
     "text": [
      "Userage : 22 \n",
      "User is eligible to vote\n"
     ]
    }
   ],
   "source": [
    "# check if a user can vote\n",
    "minage=18\n",
    "\n",
    "userage = int(input(\"Please enter your age\"))\n",
    "if(userage>=minage):\n",
    "    print(\"Userage :\",userage, \"\\nUser is eligible to vote\")\n",
    "else:\n",
    "    print(\"Userage: \",userage,\"\\nUserage is less to meet voting requirements.\")"
   ]
  },
  {
   "cell_type": "code",
   "execution_count": 12,
   "metadata": {},
   "outputs": [
    {
     "name": "stdout",
     "output_type": "stream",
     "text": [
      "RED\n",
      "Traffic light is red. Please stop\n"
     ]
    }
   ],
   "source": [
    "# check the traffic light rules\n",
    "light = input(\"Please enter the light color\").upper()\n",
    "print(light)\n",
    "\n",
    "if(light == \"GREEN\"):\n",
    "    print(\"Traffic light is green.Please move\")\n",
    "elif(light == \"YELLOW\"):\n",
    "    print(\"traffic light is yellow. Get ready\")\n",
    "else:\n",
    "    print(\"Traffic light is red. Please stop\")"
   ]
  },
  {
   "cell_type": "markdown",
   "metadata": {},
   "source": []
  }
 ],
 "metadata": {
  "kernelspec": {
   "display_name": "divya_ds_env",
   "language": "python",
   "name": "python3"
  },
  "language_info": {
   "codemirror_mode": {
    "name": "ipython",
    "version": 3
   },
   "file_extension": ".py",
   "mimetype": "text/x-python",
   "name": "python",
   "nbconvert_exporter": "python",
   "pygments_lexer": "ipython3",
   "version": "3.13.4"
  }
 },
 "nbformat": 4,
 "nbformat_minor": 2
}
